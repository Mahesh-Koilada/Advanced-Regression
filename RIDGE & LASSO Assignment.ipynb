{
 "cells": [
  {
   "cell_type": "code",
   "execution_count": 133,
   "id": "bbb473c1",
   "metadata": {},
   "outputs": [],
   "source": [
    "import numpy as np # to carryout basic math viz. sum, square, square_root etc.\n",
    "import pandas as pd # we'll bw working with DataFrames and hence this library is required\n",
    "import seaborn as sns # for visualization\n",
    "import matplotlib.pyplot as plt # for visualization\n",
    "\n",
    "from sklearn import linear_model , metrics\n",
    "from sklearn.linear_model import LinearRegression, Ridge, Lasso #to carryout various regularization models\n",
    "from sklearn.model_selection import GridSearchCV\n",
    "from sklearn.model_selection import train_test_split #to split train & test models into ratios viz. 80:20, 70:30 etc.\n",
    "from sklearn.metrics import mean_squared_error, r2_score # to compute metrics of various models\n",
    "from sklearn.preprocessing import PolynomialFeatures , MinMaxScaler\n",
    "\n",
    "import os\n",
    "\n",
    "# hide warnings\n",
    "import warnings\n",
    "warnings.filterwarnings('ignore')"
   ]
  },
  {
   "cell_type": "code",
   "execution_count": 134,
   "id": "c468339c",
   "metadata": {},
   "outputs": [
    {
     "data": {
      "text/plain": [
       "(1460, 81)"
      ]
     },
     "execution_count": 134,
     "metadata": {},
     "output_type": "execute_result"
    }
   ],
   "source": [
    "df = pd.read_csv('train.csv') #read the data from csv file 'train.csv'\n",
    "df.shape"
   ]
  },
  {
   "cell_type": "code",
   "execution_count": 192,
   "id": "7c98cff5",
   "metadata": {},
   "outputs": [],
   "source": [
    "# df.columns"
   ]
  },
  {
   "cell_type": "code",
   "execution_count": 136,
   "id": "55bd709d",
   "metadata": {
    "scrolled": true
   },
   "outputs": [
    {
     "data": {
      "text/plain": [
       "(1460, 77)"
      ]
     },
     "execution_count": 136,
     "metadata": {},
     "output_type": "execute_result"
    }
   ],
   "source": [
    "threshold = 0.5 # 50% threshold for null values in a column\n",
    "# retaining columns with <=50% missing values and storing the data_frame as df_cleaned\n",
    "df_cleaned = df.dropna( thresh = int( threshold * len( df )), axis = 1 )\n",
    "df_cleaned.shape"
   ]
  },
  {
   "cell_type": "code",
   "execution_count": 137,
   "id": "5b4eef3a",
   "metadata": {},
   "outputs": [],
   "source": [
    "# replacing null / missing values of the columns in 'df_cleaned' DataFrame with 'mode' of the column values\n",
    "for column in df_cleaned.columns:\n",
    "    if df_cleaned[column].dtype == 'object': # object means non-numeric values (viz. True, False, A, B etc.)\n",
    "        df_cleaned[column].fillna(df_cleaned[column].mode()[0], inplace = True) # [0] represent mode value, [1] for freq of mode\n",
    "    else:\n",
    "        df_cleaned[column].fillna(df_cleaned[column].median() , inplace = True) # if column values are numeric"
   ]
  },
  {
   "cell_type": "code",
   "execution_count": 138,
   "id": "c1ceae95",
   "metadata": {},
   "outputs": [],
   "source": [
    "# removing 'Id' column as it doesn't add any value to the regression analysis\n",
    "df_cleaned.drop( columns = ['Id'] , inplace = True )"
   ]
  },
  {
   "cell_type": "code",
   "execution_count": 139,
   "id": "0579560f",
   "metadata": {},
   "outputs": [
    {
     "data": {
      "text/plain": [
       "(1460, 76)"
      ]
     },
     "execution_count": 139,
     "metadata": {},
     "output_type": "execute_result"
    }
   ],
   "source": [
    "df_cleaned.shape"
   ]
  },
  {
   "cell_type": "code",
   "execution_count": 140,
   "id": "291738cc",
   "metadata": {},
   "outputs": [
    {
     "data": {
      "text/plain": [
       "(1460, 237)"
      ]
     },
     "execution_count": 140,
     "metadata": {},
     "output_type": "execute_result"
    }
   ],
   "source": [
    "# Encoding categorical varibales with dummy variables with one-HOT coding\n",
    "df_cleaned = pd.get_dummies( df_cleaned , drop_first = True)\n",
    "df_cleaned.shape"
   ]
  },
  {
   "cell_type": "code",
   "execution_count": 141,
   "id": "6d6a59e6",
   "metadata": {},
   "outputs": [],
   "source": [
    "pd.set_option('display.max_seq_items', None)\n",
    "########## print(df_cleaned.columns) # just inspecting the cleaned columns"
   ]
  },
  {
   "cell_type": "code",
   "execution_count": 142,
   "id": "5bec67d3",
   "metadata": {},
   "outputs": [],
   "source": [
    "## STEP-5 REMOVING DUPLICATES\n",
    "# removing duplicate rows\n",
    "df_cleaned.drop_duplicates( inplace = True )"
   ]
  },
  {
   "cell_type": "code",
   "execution_count": 143,
   "id": "391d2baa",
   "metadata": {},
   "outputs": [
    {
     "data": {
      "text/plain": [
       "(1460, 237)"
      ]
     },
     "execution_count": 143,
     "metadata": {},
     "output_type": "execute_result"
    }
   ],
   "source": [
    "df_cleaned.shape"
   ]
  },
  {
   "cell_type": "code",
   "execution_count": 144,
   "id": "237c0528",
   "metadata": {},
   "outputs": [],
   "source": [
    "### pd.DataFrame.drop_duplicates? # just in case if a refresher is needed on \"drop_duplicates\" method in pandas dataframe"
   ]
  },
  {
   "cell_type": "markdown",
   "id": "e5824df8",
   "metadata": {},
   "source": [
    "# Linear Regression Modelling"
   ]
  },
  {
   "cell_type": "code",
   "execution_count": 237,
   "id": "6d6b1db4",
   "metadata": {},
   "outputs": [],
   "source": [
    "X = df_cleaned.drop(columns= ['SalePrice'] ) # storing all the 236 predictors in 'X'\n",
    "y = df_cleaned['SalePrice'].values.reshape(-1, 1) # storing the responsible variable 'SalePrice' in 'y' and reshaping into\n",
    "# 2D array\n",
    "cols = X.columns"
   ]
  },
  {
   "cell_type": "code",
   "execution_count": 233,
   "id": "fba6c23b",
   "metadata": {},
   "outputs": [],
   "source": [
    "# scaling the predictors & response variables\n",
    "# instantiate the 'MinMaxScaler'\n",
    "scaler = MinMaxScaler()\n",
    "# fitting the scaler on predictor (X) and response (y) variables\n",
    "X = scaler.fit_transform( X )\n",
    "y = scaler.fit_transform( y )"
   ]
  },
  {
   "cell_type": "code",
   "execution_count": 190,
   "id": "682a9bec",
   "metadata": {},
   "outputs": [
    {
     "data": {
      "text/plain": [
       "numpy.ndarray"
      ]
     },
     "execution_count": 190,
     "metadata": {},
     "output_type": "execute_result"
    }
   ],
   "source": [
    "# splitting both predictors & response varibales into train & test tests\n",
    "X_train , X_test , y_train , y_test = train_test_split( X , y , train_size = 0.7 , test_size = 0.3 , random_state = 100 )"
   ]
  },
  {
   "cell_type": "code",
   "execution_count": 148,
   "id": "a64e5ac3",
   "metadata": {
    "scrolled": false
   },
   "outputs": [
    {
     "data": {
      "text/html": [
       "<style>#sk-container-id-6 {color: black;}#sk-container-id-6 pre{padding: 0;}#sk-container-id-6 div.sk-toggleable {background-color: white;}#sk-container-id-6 label.sk-toggleable__label {cursor: pointer;display: block;width: 100%;margin-bottom: 0;padding: 0.3em;box-sizing: border-box;text-align: center;}#sk-container-id-6 label.sk-toggleable__label-arrow:before {content: \"▸\";float: left;margin-right: 0.25em;color: #696969;}#sk-container-id-6 label.sk-toggleable__label-arrow:hover:before {color: black;}#sk-container-id-6 div.sk-estimator:hover label.sk-toggleable__label-arrow:before {color: black;}#sk-container-id-6 div.sk-toggleable__content {max-height: 0;max-width: 0;overflow: hidden;text-align: left;background-color: #f0f8ff;}#sk-container-id-6 div.sk-toggleable__content pre {margin: 0.2em;color: black;border-radius: 0.25em;background-color: #f0f8ff;}#sk-container-id-6 input.sk-toggleable__control:checked~div.sk-toggleable__content {max-height: 200px;max-width: 100%;overflow: auto;}#sk-container-id-6 input.sk-toggleable__control:checked~label.sk-toggleable__label-arrow:before {content: \"▾\";}#sk-container-id-6 div.sk-estimator input.sk-toggleable__control:checked~label.sk-toggleable__label {background-color: #d4ebff;}#sk-container-id-6 div.sk-label input.sk-toggleable__control:checked~label.sk-toggleable__label {background-color: #d4ebff;}#sk-container-id-6 input.sk-hidden--visually {border: 0;clip: rect(1px 1px 1px 1px);clip: rect(1px, 1px, 1px, 1px);height: 1px;margin: -1px;overflow: hidden;padding: 0;position: absolute;width: 1px;}#sk-container-id-6 div.sk-estimator {font-family: monospace;background-color: #f0f8ff;border: 1px dotted black;border-radius: 0.25em;box-sizing: border-box;margin-bottom: 0.5em;}#sk-container-id-6 div.sk-estimator:hover {background-color: #d4ebff;}#sk-container-id-6 div.sk-parallel-item::after {content: \"\";width: 100%;border-bottom: 1px solid gray;flex-grow: 1;}#sk-container-id-6 div.sk-label:hover label.sk-toggleable__label {background-color: #d4ebff;}#sk-container-id-6 div.sk-serial::before {content: \"\";position: absolute;border-left: 1px solid gray;box-sizing: border-box;top: 0;bottom: 0;left: 50%;z-index: 0;}#sk-container-id-6 div.sk-serial {display: flex;flex-direction: column;align-items: center;background-color: white;padding-right: 0.2em;padding-left: 0.2em;position: relative;}#sk-container-id-6 div.sk-item {position: relative;z-index: 1;}#sk-container-id-6 div.sk-parallel {display: flex;align-items: stretch;justify-content: center;background-color: white;position: relative;}#sk-container-id-6 div.sk-item::before, #sk-container-id-6 div.sk-parallel-item::before {content: \"\";position: absolute;border-left: 1px solid gray;box-sizing: border-box;top: 0;bottom: 0;left: 50%;z-index: -1;}#sk-container-id-6 div.sk-parallel-item {display: flex;flex-direction: column;z-index: 1;position: relative;background-color: white;}#sk-container-id-6 div.sk-parallel-item:first-child::after {align-self: flex-end;width: 50%;}#sk-container-id-6 div.sk-parallel-item:last-child::after {align-self: flex-start;width: 50%;}#sk-container-id-6 div.sk-parallel-item:only-child::after {width: 0;}#sk-container-id-6 div.sk-dashed-wrapped {border: 1px dashed gray;margin: 0 0.4em 0.5em 0.4em;box-sizing: border-box;padding-bottom: 0.4em;background-color: white;}#sk-container-id-6 div.sk-label label {font-family: monospace;font-weight: bold;display: inline-block;line-height: 1.2em;}#sk-container-id-6 div.sk-label-container {text-align: center;}#sk-container-id-6 div.sk-container {/* jupyter's `normalize.less` sets `[hidden] { display: none; }` but bootstrap.min.css set `[hidden] { display: none !important; }` so we also need the `!important` here to be able to override the default hidden behavior on the sphinx rendered scikit-learn.org. See: https://github.com/scikit-learn/scikit-learn/issues/21755 */display: inline-block !important;position: relative;}#sk-container-id-6 div.sk-text-repr-fallback {display: none;}</style><div id=\"sk-container-id-6\" class=\"sk-top-container\"><div class=\"sk-text-repr-fallback\"><pre>LinearRegression()</pre><b>In a Jupyter environment, please rerun this cell to show the HTML representation or trust the notebook. <br />On GitHub, the HTML representation is unable to render, please try loading this page with nbviewer.org.</b></div><div class=\"sk-container\" hidden><div class=\"sk-item\"><div class=\"sk-estimator sk-toggleable\"><input class=\"sk-toggleable__control sk-hidden--visually\" id=\"sk-estimator-id-10\" type=\"checkbox\" checked><label for=\"sk-estimator-id-10\" class=\"sk-toggleable__label sk-toggleable__label-arrow\">LinearRegression</label><div class=\"sk-toggleable__content\"><pre>LinearRegression()</pre></div></div></div></div></div>"
      ],
      "text/plain": [
       "LinearRegression()"
      ]
     },
     "execution_count": 148,
     "metadata": {},
     "output_type": "execute_result"
    }
   ],
   "source": [
    "# initialize the Linear Regression object\n",
    "lm = LinearRegression()\n",
    "\n",
    "# taking partial derivative of RSS w.r.t. beta_0, beta_1 , ... , beta_236 and solving the resultant normal equations\n",
    "lm.fit( X_train , y_train )"
   ]
  },
  {
   "cell_type": "code",
   "execution_count": 149,
   "id": "7429b33f",
   "metadata": {},
   "outputs": [
    {
     "data": {
      "text/plain": [
       "(1, 236)"
      ]
     },
     "execution_count": 149,
     "metadata": {},
     "output_type": "execute_result"
    }
   ],
   "source": [
    "# print the intercept term (beta_0) and model coefficients (beta_1 ... beta_236)\n",
    "# lm.intercept_\n",
    "lm.coef_.shape"
   ]
  },
  {
   "cell_type": "code",
   "execution_count": 150,
   "id": "d1c27f82",
   "metadata": {
    "scrolled": true
   },
   "outputs": [
    {
     "name": "stdout",
     "output_type": "stream",
     "text": [
      "R_sqaure_train_LR  0.9484056979385009\n",
      "R_sqaure_test_LR  -3.5487209322400804e+18\n",
      "0.6348693551077066\n",
      "1.929021252877183e+19\n",
      "0.0006218113174414364\n",
      "209860861.32463437\n"
     ]
    }
   ],
   "source": [
    "# predicting the responses based on the training set of predictors 'y_pred_train'\n",
    "y_pred_train = lm.predict( X_train )\n",
    "\n",
    "# predicting the responses based on the testing set of predictors 'y_pred_test'\n",
    "y_pred_test = lm.predict( X_test )\n",
    "\n",
    "# initiating a blank pandas series\n",
    "metric =[ ]\n",
    "\n",
    "#computing R^2 value of the model on training set\n",
    "r2_train_lr = r2_score( y_train , y_pred_train )\n",
    "print(\"R_sqaure_train_LR \", r2_train_lr)\n",
    "\n",
    "# appending R^2 value of the model on training set to the pandas series named 'metric'\n",
    "metric.append( r2_train_lr )\n",
    "\n",
    "# compute R^2 value of the model on test set\n",
    "r2_test_lr = r2_score( y_test , y_pred_test )\n",
    "print(\"R_sqaure_test_LR \", r2_test_lr)\n",
    "\n",
    "# appending R^2 value of the model on test set to the pandas series named 'metric'\n",
    "metric.append(r2_test_lr)\n",
    "\n",
    "# compute RSS value of the model on train test\n",
    "rss_train_lr = np.sum( np.square( y_train - y_pred_train ) )\n",
    "print( rss_train_lr )\n",
    "\n",
    "# appending RSS value of the model on training data set to the pandas series named 'metric'\n",
    "metric.append( rss_train_lr)\n",
    "\n",
    "# computing RSS value of the model on test set\n",
    "rss_test_lr = np.sum( np.square( y_test - y_pred_test ) )\n",
    "print( rss_test_lr )\n",
    "\n",
    "# appending RSS value of the model on test data set to the pandas series named 'metric'\n",
    "metric.append( rss_test_lr )\n",
    "\n",
    "# compute mean_squre_error of train set\n",
    "mse_train_lr = mean_squared_error( y_train , y_pred_train )\n",
    "print( mse_train_lr )\n",
    "\n",
    "# append mse_train_lr to 'metric'\n",
    "metric.append( mse_train_lr)\n",
    "\n",
    "# compute mean_squared_error of test set\n",
    "mse_test_lr = mean_squared_error( y_test , y_pred_test )\n",
    "print( mse_test_lr**0.5 )\n",
    "\n",
    "# append mse_test_lr to 'metric'\n",
    "metric.append( mse_test_lr**0.5 )"
   ]
  },
  {
   "cell_type": "markdown",
   "id": "72176f73",
   "metadata": {},
   "source": [
    "# RIDGE regression"
   ]
  },
  {
   "cell_type": "code",
   "execution_count": 151,
   "id": "b45237c3",
   "metadata": {},
   "outputs": [],
   "source": [
    "# list of hyper_parameters (aka lambdas or alphas)\n",
    "params = {'alpha': [0.0001,0.001,0.01,0.05,0.1,0.2,0.3,0.4,0.5,0.6,0.7,0.8,0.9,1,2,3,4,5,6,7,8,9,10,20,50,100,500,1000]}"
   ]
  },
  {
   "cell_type": "code",
   "execution_count": 152,
   "id": "6036bf5b",
   "metadata": {},
   "outputs": [
    {
     "name": "stdout",
     "output_type": "stream",
     "text": [
      "Fitting 5 folds for each of 28 candidates, totalling 140 fits\n"
     ]
    },
    {
     "data": {
      "text/html": [
       "<style>#sk-container-id-7 {color: black;}#sk-container-id-7 pre{padding: 0;}#sk-container-id-7 div.sk-toggleable {background-color: white;}#sk-container-id-7 label.sk-toggleable__label {cursor: pointer;display: block;width: 100%;margin-bottom: 0;padding: 0.3em;box-sizing: border-box;text-align: center;}#sk-container-id-7 label.sk-toggleable__label-arrow:before {content: \"▸\";float: left;margin-right: 0.25em;color: #696969;}#sk-container-id-7 label.sk-toggleable__label-arrow:hover:before {color: black;}#sk-container-id-7 div.sk-estimator:hover label.sk-toggleable__label-arrow:before {color: black;}#sk-container-id-7 div.sk-toggleable__content {max-height: 0;max-width: 0;overflow: hidden;text-align: left;background-color: #f0f8ff;}#sk-container-id-7 div.sk-toggleable__content pre {margin: 0.2em;color: black;border-radius: 0.25em;background-color: #f0f8ff;}#sk-container-id-7 input.sk-toggleable__control:checked~div.sk-toggleable__content {max-height: 200px;max-width: 100%;overflow: auto;}#sk-container-id-7 input.sk-toggleable__control:checked~label.sk-toggleable__label-arrow:before {content: \"▾\";}#sk-container-id-7 div.sk-estimator input.sk-toggleable__control:checked~label.sk-toggleable__label {background-color: #d4ebff;}#sk-container-id-7 div.sk-label input.sk-toggleable__control:checked~label.sk-toggleable__label {background-color: #d4ebff;}#sk-container-id-7 input.sk-hidden--visually {border: 0;clip: rect(1px 1px 1px 1px);clip: rect(1px, 1px, 1px, 1px);height: 1px;margin: -1px;overflow: hidden;padding: 0;position: absolute;width: 1px;}#sk-container-id-7 div.sk-estimator {font-family: monospace;background-color: #f0f8ff;border: 1px dotted black;border-radius: 0.25em;box-sizing: border-box;margin-bottom: 0.5em;}#sk-container-id-7 div.sk-estimator:hover {background-color: #d4ebff;}#sk-container-id-7 div.sk-parallel-item::after {content: \"\";width: 100%;border-bottom: 1px solid gray;flex-grow: 1;}#sk-container-id-7 div.sk-label:hover label.sk-toggleable__label {background-color: #d4ebff;}#sk-container-id-7 div.sk-serial::before {content: \"\";position: absolute;border-left: 1px solid gray;box-sizing: border-box;top: 0;bottom: 0;left: 50%;z-index: 0;}#sk-container-id-7 div.sk-serial {display: flex;flex-direction: column;align-items: center;background-color: white;padding-right: 0.2em;padding-left: 0.2em;position: relative;}#sk-container-id-7 div.sk-item {position: relative;z-index: 1;}#sk-container-id-7 div.sk-parallel {display: flex;align-items: stretch;justify-content: center;background-color: white;position: relative;}#sk-container-id-7 div.sk-item::before, #sk-container-id-7 div.sk-parallel-item::before {content: \"\";position: absolute;border-left: 1px solid gray;box-sizing: border-box;top: 0;bottom: 0;left: 50%;z-index: -1;}#sk-container-id-7 div.sk-parallel-item {display: flex;flex-direction: column;z-index: 1;position: relative;background-color: white;}#sk-container-id-7 div.sk-parallel-item:first-child::after {align-self: flex-end;width: 50%;}#sk-container-id-7 div.sk-parallel-item:last-child::after {align-self: flex-start;width: 50%;}#sk-container-id-7 div.sk-parallel-item:only-child::after {width: 0;}#sk-container-id-7 div.sk-dashed-wrapped {border: 1px dashed gray;margin: 0 0.4em 0.5em 0.4em;box-sizing: border-box;padding-bottom: 0.4em;background-color: white;}#sk-container-id-7 div.sk-label label {font-family: monospace;font-weight: bold;display: inline-block;line-height: 1.2em;}#sk-container-id-7 div.sk-label-container {text-align: center;}#sk-container-id-7 div.sk-container {/* jupyter's `normalize.less` sets `[hidden] { display: none; }` but bootstrap.min.css set `[hidden] { display: none !important; }` so we also need the `!important` here to be able to override the default hidden behavior on the sphinx rendered scikit-learn.org. See: https://github.com/scikit-learn/scikit-learn/issues/21755 */display: inline-block !important;position: relative;}#sk-container-id-7 div.sk-text-repr-fallback {display: none;}</style><div id=\"sk-container-id-7\" class=\"sk-top-container\"><div class=\"sk-text-repr-fallback\"><pre>GridSearchCV(cv=5, estimator=Ridge(),\n",
       "             param_grid={&#x27;alpha&#x27;: [0.0001, 0.001, 0.01, 0.05, 0.1, 0.2, 0.3,\n",
       "                                   0.4, 0.5, 0.6, 0.7, 0.8, 0.9, 1, 2, 3, 4, 5,\n",
       "                                   6, 7, 8, 9, 10, 20, 50, 100, 500, 1000]},\n",
       "             return_train_score=True, scoring=&#x27;neg_mean_absolute_error&#x27;,\n",
       "             verbose=1)</pre><b>In a Jupyter environment, please rerun this cell to show the HTML representation or trust the notebook. <br />On GitHub, the HTML representation is unable to render, please try loading this page with nbviewer.org.</b></div><div class=\"sk-container\" hidden><div class=\"sk-item sk-dashed-wrapped\"><div class=\"sk-label-container\"><div class=\"sk-label sk-toggleable\"><input class=\"sk-toggleable__control sk-hidden--visually\" id=\"sk-estimator-id-11\" type=\"checkbox\" ><label for=\"sk-estimator-id-11\" class=\"sk-toggleable__label sk-toggleable__label-arrow\">GridSearchCV</label><div class=\"sk-toggleable__content\"><pre>GridSearchCV(cv=5, estimator=Ridge(),\n",
       "             param_grid={&#x27;alpha&#x27;: [0.0001, 0.001, 0.01, 0.05, 0.1, 0.2, 0.3,\n",
       "                                   0.4, 0.5, 0.6, 0.7, 0.8, 0.9, 1, 2, 3, 4, 5,\n",
       "                                   6, 7, 8, 9, 10, 20, 50, 100, 500, 1000]},\n",
       "             return_train_score=True, scoring=&#x27;neg_mean_absolute_error&#x27;,\n",
       "             verbose=1)</pre></div></div></div><div class=\"sk-parallel\"><div class=\"sk-parallel-item\"><div class=\"sk-item\"><div class=\"sk-label-container\"><div class=\"sk-label sk-toggleable\"><input class=\"sk-toggleable__control sk-hidden--visually\" id=\"sk-estimator-id-12\" type=\"checkbox\" ><label for=\"sk-estimator-id-12\" class=\"sk-toggleable__label sk-toggleable__label-arrow\">estimator: Ridge</label><div class=\"sk-toggleable__content\"><pre>Ridge()</pre></div></div></div><div class=\"sk-serial\"><div class=\"sk-item\"><div class=\"sk-estimator sk-toggleable\"><input class=\"sk-toggleable__control sk-hidden--visually\" id=\"sk-estimator-id-13\" type=\"checkbox\" ><label for=\"sk-estimator-id-13\" class=\"sk-toggleable__label sk-toggleable__label-arrow\">Ridge</label><div class=\"sk-toggleable__content\"><pre>Ridge()</pre></div></div></div></div></div></div></div></div></div></div>"
      ],
      "text/plain": [
       "GridSearchCV(cv=5, estimator=Ridge(),\n",
       "             param_grid={'alpha': [0.0001, 0.001, 0.01, 0.05, 0.1, 0.2, 0.3,\n",
       "                                   0.4, 0.5, 0.6, 0.7, 0.8, 0.9, 1, 2, 3, 4, 5,\n",
       "                                   6, 7, 8, 9, 10, 20, 50, 100, 500, 1000]},\n",
       "             return_train_score=True, scoring='neg_mean_absolute_error',\n",
       "             verbose=1)"
      ]
     },
     "execution_count": 152,
     "metadata": {},
     "output_type": "execute_result"
    }
   ],
   "source": [
    "# initialize RIDGE object into variable 'ridge'\n",
    "ridge = Ridge()\n",
    "\n",
    "# cross validation to find best \"lambda\" using GridSearchCV() function\n",
    "folds = 5\n",
    "model_cv = GridSearchCV( estimator = ridge , param_grid = params , scoring = 'neg_mean_absolute_error' , cv = folds , \n",
    "                       return_train_score = True , verbose = 1)\n",
    "model_cv.fit( X_train , y_train )"
   ]
  },
  {
   "cell_type": "code",
   "execution_count": 153,
   "id": "79ea1642",
   "metadata": {},
   "outputs": [
    {
     "name": "stdout",
     "output_type": "stream",
     "text": [
      "{'alpha': 6}\n"
     ]
    }
   ],
   "source": [
    "# from all of these fits I got the best value of 'lambda' as '20' using the function 'best_params_'\n",
    "# that means this value gave highest negative_mean_absolute_error\n",
    "print( model_cv.best_params_)"
   ]
  },
  {
   "cell_type": "code",
   "execution_count": 168,
   "id": "c596c44f",
   "metadata": {
    "scrolled": true
   },
   "outputs": [
    {
     "data": {
      "text/plain": [
       "(1, 236)"
      ]
     },
     "execution_count": 168,
     "metadata": {},
     "output_type": "execute_result"
    }
   ],
   "source": [
    "# assiging '6' to variable 'alpha'\n",
    "alpha = 6\n",
    "\n",
    "# once we get this value, I fit the RIDGE reg model again on the trining set\n",
    "ridge = Ridge(alpha = alpha)\n",
    "ridge.fit(X_train,y_train)\n",
    "ridge.coef_.shape"
   ]
  },
  {
   "cell_type": "code",
   "execution_count": 169,
   "id": "9313df87",
   "metadata": {},
   "outputs": [
    {
     "name": "stdout",
     "output_type": "stream",
     "text": [
      "0.8911471184965996\n",
      "0.8657193372160505\n",
      "1.3394378045720112\n",
      "0.7299256754944763\n",
      "0.001311888153351627\n",
      "0.001666496976014786\n"
     ]
    }
   ],
   "source": [
    "# but what we're actually interested in is comparing R^2 values on the Training & Testing sets\n",
    "y_pred_train = ridge.predict( X_train)\n",
    "y_pred_test = ridge.predict( X_test)\n",
    "metric2 =[]\n",
    "\n",
    "r2_train_lr = r2_score(y_train , y_pred_train)\n",
    "print( r2_train_lr)\n",
    "metric2.append( r2_train_lr )\n",
    "\n",
    "r2_test_lr = r2_score(y_test , y_pred_test)\n",
    "print( r2_test_lr)\n",
    "metric2.append( r2_test_lr )\n",
    "\n",
    "rss_train_lr = np.sum( np.square( y_train - y_pred_train ) )\n",
    "print( rss_train_lr )\n",
    "metric2.append( rss_train_lr )\n",
    "\n",
    "rss_test_lr = np.sum( np.square( y_test - y_pred_test ) )\n",
    "print(rss_test_lr)\n",
    "metric2.append( rss_test_lr )\n",
    "\n",
    "mse_train_lr = mean_squared_error( y_train , y_pred_train )\n",
    "print( mse_train_lr )\n",
    "metric2.append( mse_train_lr**0.5 )\n",
    "\n",
    "mse_test_lr = mean_squared_error( y_test , y_pred_test )\n",
    "print( mse_test_lr )\n",
    "metric2.append( mse_test_lr**0.5)"
   ]
  },
  {
   "cell_type": "code",
   "execution_count": 170,
   "id": "46f943f5",
   "metadata": {},
   "outputs": [],
   "source": [
    "# notice the difference between R^2 value of  the training data & the testing data has reduced quite a bit.\n",
    "# so RIDGE regression did help us with the overfitting"
   ]
  },
  {
   "cell_type": "markdown",
   "id": "db16efd3",
   "metadata": {},
   "source": [
    "# LASSO regression"
   ]
  },
  {
   "cell_type": "code",
   "execution_count": 171,
   "id": "db70e27b",
   "metadata": {},
   "outputs": [],
   "source": [
    "# let's see how LASSO regression performs here. The code remains the same except for the estimator RIDGE to LASSO.\n",
    "# initializaing LASSO variable object\n",
    "lasso = Lasso()"
   ]
  },
  {
   "cell_type": "code",
   "execution_count": 172,
   "id": "fc9b4377",
   "metadata": {},
   "outputs": [
    {
     "name": "stdout",
     "output_type": "stream",
     "text": [
      "Fitting 5 folds for each of 28 candidates, totalling 140 fits\n"
     ]
    },
    {
     "data": {
      "text/html": [
       "<style>#sk-container-id-10 {color: black;}#sk-container-id-10 pre{padding: 0;}#sk-container-id-10 div.sk-toggleable {background-color: white;}#sk-container-id-10 label.sk-toggleable__label {cursor: pointer;display: block;width: 100%;margin-bottom: 0;padding: 0.3em;box-sizing: border-box;text-align: center;}#sk-container-id-10 label.sk-toggleable__label-arrow:before {content: \"▸\";float: left;margin-right: 0.25em;color: #696969;}#sk-container-id-10 label.sk-toggleable__label-arrow:hover:before {color: black;}#sk-container-id-10 div.sk-estimator:hover label.sk-toggleable__label-arrow:before {color: black;}#sk-container-id-10 div.sk-toggleable__content {max-height: 0;max-width: 0;overflow: hidden;text-align: left;background-color: #f0f8ff;}#sk-container-id-10 div.sk-toggleable__content pre {margin: 0.2em;color: black;border-radius: 0.25em;background-color: #f0f8ff;}#sk-container-id-10 input.sk-toggleable__control:checked~div.sk-toggleable__content {max-height: 200px;max-width: 100%;overflow: auto;}#sk-container-id-10 input.sk-toggleable__control:checked~label.sk-toggleable__label-arrow:before {content: \"▾\";}#sk-container-id-10 div.sk-estimator input.sk-toggleable__control:checked~label.sk-toggleable__label {background-color: #d4ebff;}#sk-container-id-10 div.sk-label input.sk-toggleable__control:checked~label.sk-toggleable__label {background-color: #d4ebff;}#sk-container-id-10 input.sk-hidden--visually {border: 0;clip: rect(1px 1px 1px 1px);clip: rect(1px, 1px, 1px, 1px);height: 1px;margin: -1px;overflow: hidden;padding: 0;position: absolute;width: 1px;}#sk-container-id-10 div.sk-estimator {font-family: monospace;background-color: #f0f8ff;border: 1px dotted black;border-radius: 0.25em;box-sizing: border-box;margin-bottom: 0.5em;}#sk-container-id-10 div.sk-estimator:hover {background-color: #d4ebff;}#sk-container-id-10 div.sk-parallel-item::after {content: \"\";width: 100%;border-bottom: 1px solid gray;flex-grow: 1;}#sk-container-id-10 div.sk-label:hover label.sk-toggleable__label {background-color: #d4ebff;}#sk-container-id-10 div.sk-serial::before {content: \"\";position: absolute;border-left: 1px solid gray;box-sizing: border-box;top: 0;bottom: 0;left: 50%;z-index: 0;}#sk-container-id-10 div.sk-serial {display: flex;flex-direction: column;align-items: center;background-color: white;padding-right: 0.2em;padding-left: 0.2em;position: relative;}#sk-container-id-10 div.sk-item {position: relative;z-index: 1;}#sk-container-id-10 div.sk-parallel {display: flex;align-items: stretch;justify-content: center;background-color: white;position: relative;}#sk-container-id-10 div.sk-item::before, #sk-container-id-10 div.sk-parallel-item::before {content: \"\";position: absolute;border-left: 1px solid gray;box-sizing: border-box;top: 0;bottom: 0;left: 50%;z-index: -1;}#sk-container-id-10 div.sk-parallel-item {display: flex;flex-direction: column;z-index: 1;position: relative;background-color: white;}#sk-container-id-10 div.sk-parallel-item:first-child::after {align-self: flex-end;width: 50%;}#sk-container-id-10 div.sk-parallel-item:last-child::after {align-self: flex-start;width: 50%;}#sk-container-id-10 div.sk-parallel-item:only-child::after {width: 0;}#sk-container-id-10 div.sk-dashed-wrapped {border: 1px dashed gray;margin: 0 0.4em 0.5em 0.4em;box-sizing: border-box;padding-bottom: 0.4em;background-color: white;}#sk-container-id-10 div.sk-label label {font-family: monospace;font-weight: bold;display: inline-block;line-height: 1.2em;}#sk-container-id-10 div.sk-label-container {text-align: center;}#sk-container-id-10 div.sk-container {/* jupyter's `normalize.less` sets `[hidden] { display: none; }` but bootstrap.min.css set `[hidden] { display: none !important; }` so we also need the `!important` here to be able to override the default hidden behavior on the sphinx rendered scikit-learn.org. See: https://github.com/scikit-learn/scikit-learn/issues/21755 */display: inline-block !important;position: relative;}#sk-container-id-10 div.sk-text-repr-fallback {display: none;}</style><div id=\"sk-container-id-10\" class=\"sk-top-container\"><div class=\"sk-text-repr-fallback\"><pre>GridSearchCV(cv=5, estimator=Lasso(),\n",
       "             param_grid={&#x27;alpha&#x27;: [0.0001, 0.001, 0.01, 0.05, 0.1, 0.2, 0.3,\n",
       "                                   0.4, 0.5, 0.6, 0.7, 0.8, 0.9, 1, 2, 3, 4, 5,\n",
       "                                   6, 7, 8, 9, 10, 20, 50, 100, 500, 1000]},\n",
       "             return_train_score=True, scoring=&#x27;neg_mean_absolute_error&#x27;,\n",
       "             verbose=1)</pre><b>In a Jupyter environment, please rerun this cell to show the HTML representation or trust the notebook. <br />On GitHub, the HTML representation is unable to render, please try loading this page with nbviewer.org.</b></div><div class=\"sk-container\" hidden><div class=\"sk-item sk-dashed-wrapped\"><div class=\"sk-label-container\"><div class=\"sk-label sk-toggleable\"><input class=\"sk-toggleable__control sk-hidden--visually\" id=\"sk-estimator-id-18\" type=\"checkbox\" ><label for=\"sk-estimator-id-18\" class=\"sk-toggleable__label sk-toggleable__label-arrow\">GridSearchCV</label><div class=\"sk-toggleable__content\"><pre>GridSearchCV(cv=5, estimator=Lasso(),\n",
       "             param_grid={&#x27;alpha&#x27;: [0.0001, 0.001, 0.01, 0.05, 0.1, 0.2, 0.3,\n",
       "                                   0.4, 0.5, 0.6, 0.7, 0.8, 0.9, 1, 2, 3, 4, 5,\n",
       "                                   6, 7, 8, 9, 10, 20, 50, 100, 500, 1000]},\n",
       "             return_train_score=True, scoring=&#x27;neg_mean_absolute_error&#x27;,\n",
       "             verbose=1)</pre></div></div></div><div class=\"sk-parallel\"><div class=\"sk-parallel-item\"><div class=\"sk-item\"><div class=\"sk-label-container\"><div class=\"sk-label sk-toggleable\"><input class=\"sk-toggleable__control sk-hidden--visually\" id=\"sk-estimator-id-19\" type=\"checkbox\" ><label for=\"sk-estimator-id-19\" class=\"sk-toggleable__label sk-toggleable__label-arrow\">estimator: Lasso</label><div class=\"sk-toggleable__content\"><pre>Lasso()</pre></div></div></div><div class=\"sk-serial\"><div class=\"sk-item\"><div class=\"sk-estimator sk-toggleable\"><input class=\"sk-toggleable__control sk-hidden--visually\" id=\"sk-estimator-id-20\" type=\"checkbox\" ><label for=\"sk-estimator-id-20\" class=\"sk-toggleable__label sk-toggleable__label-arrow\">Lasso</label><div class=\"sk-toggleable__content\"><pre>Lasso()</pre></div></div></div></div></div></div></div></div></div></div>"
      ],
      "text/plain": [
       "GridSearchCV(cv=5, estimator=Lasso(),\n",
       "             param_grid={'alpha': [0.0001, 0.001, 0.01, 0.05, 0.1, 0.2, 0.3,\n",
       "                                   0.4, 0.5, 0.6, 0.7, 0.8, 0.9, 1, 2, 3, 4, 5,\n",
       "                                   6, 7, 8, 9, 10, 20, 50, 100, 500, 1000]},\n",
       "             return_train_score=True, scoring='neg_mean_absolute_error',\n",
       "             verbose=1)"
      ]
     },
     "execution_count": 172,
     "metadata": {},
     "output_type": "execute_result"
    }
   ],
   "source": [
    "# 'GridSearchCV' in onrder to find best 'lambda'\n",
    "model_cv = GridSearchCV( estimator = lasso , param_grid = params , \n",
    "                       scoring = 'neg_mean_absolute_error' , cv = folds , \n",
    "                       return_train_score = True , verbose = 1 )\n",
    "model_cv.fit( X_train , y_train )"
   ]
  },
  {
   "cell_type": "code",
   "execution_count": 173,
   "id": "931f1698",
   "metadata": {},
   "outputs": [
    {
     "name": "stdout",
     "output_type": "stream",
     "text": [
      "{'alpha': 0.0001}\n"
     ]
    }
   ],
   "source": [
    "# finding the best hyperparameter 'alpha'\n",
    "print( model_cv.best_params_)"
   ]
  },
  {
   "cell_type": "code",
   "execution_count": 174,
   "id": "966c048a",
   "metadata": {},
   "outputs": [
    {
     "data": {
      "text/html": [
       "<style>#sk-container-id-11 {color: black;}#sk-container-id-11 pre{padding: 0;}#sk-container-id-11 div.sk-toggleable {background-color: white;}#sk-container-id-11 label.sk-toggleable__label {cursor: pointer;display: block;width: 100%;margin-bottom: 0;padding: 0.3em;box-sizing: border-box;text-align: center;}#sk-container-id-11 label.sk-toggleable__label-arrow:before {content: \"▸\";float: left;margin-right: 0.25em;color: #696969;}#sk-container-id-11 label.sk-toggleable__label-arrow:hover:before {color: black;}#sk-container-id-11 div.sk-estimator:hover label.sk-toggleable__label-arrow:before {color: black;}#sk-container-id-11 div.sk-toggleable__content {max-height: 0;max-width: 0;overflow: hidden;text-align: left;background-color: #f0f8ff;}#sk-container-id-11 div.sk-toggleable__content pre {margin: 0.2em;color: black;border-radius: 0.25em;background-color: #f0f8ff;}#sk-container-id-11 input.sk-toggleable__control:checked~div.sk-toggleable__content {max-height: 200px;max-width: 100%;overflow: auto;}#sk-container-id-11 input.sk-toggleable__control:checked~label.sk-toggleable__label-arrow:before {content: \"▾\";}#sk-container-id-11 div.sk-estimator input.sk-toggleable__control:checked~label.sk-toggleable__label {background-color: #d4ebff;}#sk-container-id-11 div.sk-label input.sk-toggleable__control:checked~label.sk-toggleable__label {background-color: #d4ebff;}#sk-container-id-11 input.sk-hidden--visually {border: 0;clip: rect(1px 1px 1px 1px);clip: rect(1px, 1px, 1px, 1px);height: 1px;margin: -1px;overflow: hidden;padding: 0;position: absolute;width: 1px;}#sk-container-id-11 div.sk-estimator {font-family: monospace;background-color: #f0f8ff;border: 1px dotted black;border-radius: 0.25em;box-sizing: border-box;margin-bottom: 0.5em;}#sk-container-id-11 div.sk-estimator:hover {background-color: #d4ebff;}#sk-container-id-11 div.sk-parallel-item::after {content: \"\";width: 100%;border-bottom: 1px solid gray;flex-grow: 1;}#sk-container-id-11 div.sk-label:hover label.sk-toggleable__label {background-color: #d4ebff;}#sk-container-id-11 div.sk-serial::before {content: \"\";position: absolute;border-left: 1px solid gray;box-sizing: border-box;top: 0;bottom: 0;left: 50%;z-index: 0;}#sk-container-id-11 div.sk-serial {display: flex;flex-direction: column;align-items: center;background-color: white;padding-right: 0.2em;padding-left: 0.2em;position: relative;}#sk-container-id-11 div.sk-item {position: relative;z-index: 1;}#sk-container-id-11 div.sk-parallel {display: flex;align-items: stretch;justify-content: center;background-color: white;position: relative;}#sk-container-id-11 div.sk-item::before, #sk-container-id-11 div.sk-parallel-item::before {content: \"\";position: absolute;border-left: 1px solid gray;box-sizing: border-box;top: 0;bottom: 0;left: 50%;z-index: -1;}#sk-container-id-11 div.sk-parallel-item {display: flex;flex-direction: column;z-index: 1;position: relative;background-color: white;}#sk-container-id-11 div.sk-parallel-item:first-child::after {align-self: flex-end;width: 50%;}#sk-container-id-11 div.sk-parallel-item:last-child::after {align-self: flex-start;width: 50%;}#sk-container-id-11 div.sk-parallel-item:only-child::after {width: 0;}#sk-container-id-11 div.sk-dashed-wrapped {border: 1px dashed gray;margin: 0 0.4em 0.5em 0.4em;box-sizing: border-box;padding-bottom: 0.4em;background-color: white;}#sk-container-id-11 div.sk-label label {font-family: monospace;font-weight: bold;display: inline-block;line-height: 1.2em;}#sk-container-id-11 div.sk-label-container {text-align: center;}#sk-container-id-11 div.sk-container {/* jupyter's `normalize.less` sets `[hidden] { display: none; }` but bootstrap.min.css set `[hidden] { display: none !important; }` so we also need the `!important` here to be able to override the default hidden behavior on the sphinx rendered scikit-learn.org. See: https://github.com/scikit-learn/scikit-learn/issues/21755 */display: inline-block !important;position: relative;}#sk-container-id-11 div.sk-text-repr-fallback {display: none;}</style><div id=\"sk-container-id-11\" class=\"sk-top-container\"><div class=\"sk-text-repr-fallback\"><pre>Lasso(alpha=0.0001)</pre><b>In a Jupyter environment, please rerun this cell to show the HTML representation or trust the notebook. <br />On GitHub, the HTML representation is unable to render, please try loading this page with nbviewer.org.</b></div><div class=\"sk-container\" hidden><div class=\"sk-item\"><div class=\"sk-estimator sk-toggleable\"><input class=\"sk-toggleable__control sk-hidden--visually\" id=\"sk-estimator-id-21\" type=\"checkbox\" checked><label for=\"sk-estimator-id-21\" class=\"sk-toggleable__label sk-toggleable__label-arrow\">Lasso</label><div class=\"sk-toggleable__content\"><pre>Lasso(alpha=0.0001)</pre></div></div></div></div></div>"
      ],
      "text/plain": [
       "Lasso(alpha=0.0001)"
      ]
     },
     "execution_count": 174,
     "metadata": {},
     "output_type": "execute_result"
    }
   ],
   "source": [
    "# the best paramter after GridSearchCV, for LASSO, the optimum vallue of lambda = 20\n",
    "alpha = 0.0001\n",
    "\n",
    "# let's fit the LASSO model\n",
    "lasso= Lasso(alpha=alpha)\n",
    "lasso.fit(X_train , y_train)"
   ]
  },
  {
   "cell_type": "code",
   "execution_count": 175,
   "id": "f92f5fca",
   "metadata": {},
   "outputs": [
    {
     "data": {
      "text/plain": [
       "(236,)"
      ]
     },
     "execution_count": 175,
     "metadata": {},
     "output_type": "execute_result"
    }
   ],
   "source": [
    "# get model coefficients\n",
    "###### ***NOTICE THE NO OF ZEROES***\n",
    "lasso.coef_.shape"
   ]
  },
  {
   "cell_type": "code",
   "execution_count": 176,
   "id": "fd598834",
   "metadata": {},
   "outputs": [
    {
     "name": "stdout",
     "output_type": "stream",
     "text": [
      "0.904873424926977\n",
      "0.8576028712258623\n",
      "23451.08464745864\n",
      "4208.712439874329\n",
      "0.0011464595625180077\n",
      "0.0017672267888422524\n"
     ]
    }
   ],
   "source": [
    "# now we are more interested in comparing the R^2 value of training and test data sets to see if the overfitting issue \n",
    "# has been solved\n",
    "y_pred_train = lasso.predict( X_train )\n",
    "y_pred_test = lasso.predict( X_test )\n",
    "\n",
    "metric3=[]\n",
    "r2_train_lr = r2_score( y_train , y_pred_train )\n",
    "print( r2_train_lr )\n",
    "metric3.append( r2_train_lr )\n",
    "\n",
    "r2_test_lr = r2_score( y_test , y_pred_test )\n",
    "print( r2_test_lr )\n",
    "metric3.append( r2_test_lr )\n",
    "\n",
    "rss_train_lr = np.sum(np.square( y_train - y_pred_train ) )\n",
    "print( rss_train_lr )\n",
    "metric3.append( rss_train_lr )\n",
    "\n",
    "rss_test_lr = np.sum( np.square( y_test - y_pred_test ) )\n",
    "print( rss_test_lr )\n",
    "metric3.append( rss_test_lr )\n",
    "\n",
    "mse_train_lr = mean_squared_error( y_train , y_pred_train )\n",
    "print( mse_train_lr )\n",
    "metric3.append( mse_train_lr**0.5 )\n",
    "\n",
    "mse_test_lr = mean_squared_error( y_test , y_pred_test )\n",
    "print( mse_test_lr )\n",
    "metric3.append( mse_test_lr**0.5 )"
   ]
  },
  {
   "cell_type": "markdown",
   "id": "18f4cb11",
   "metadata": {},
   "source": [
    "## here also it does better than the LINEAR regression. In my view the R^2 value for the RIDGE regression of the test data set better than LASSO. \n",
    "## This sort of tells us that the variables that we considered in the model to build RIDGE regression, they all sort of related to the response variable. There were less noisy variables in the model. And LASSO regression does # feature selection & dropped a few variables, wasn't that a great idea."
   ]
  },
  {
   "cell_type": "code",
   "execution_count": 177,
   "id": "22f403d9",
   "metadata": {},
   "outputs": [
    {
     "data": {
      "text/html": [
       "<div>\n",
       "<style scoped>\n",
       "    .dataframe tbody tr th:only-of-type {\n",
       "        vertical-align: middle;\n",
       "    }\n",
       "\n",
       "    .dataframe tbody tr th {\n",
       "        vertical-align: top;\n",
       "    }\n",
       "\n",
       "    .dataframe thead th {\n",
       "        text-align: right;\n",
       "    }\n",
       "</style>\n",
       "<table border=\"1\" class=\"dataframe\">\n",
       "  <thead>\n",
       "    <tr style=\"text-align: right;\">\n",
       "      <th></th>\n",
       "      <th>Metric</th>\n",
       "      <th>Linear Regression</th>\n",
       "      <th>Ridge Regression</th>\n",
       "      <th>Lasso Regression</th>\n",
       "    </tr>\n",
       "  </thead>\n",
       "  <tbody>\n",
       "    <tr>\n",
       "      <th>0</th>\n",
       "      <td>R2 score(Train)</td>\n",
       "      <td>9.484057e-01</td>\n",
       "      <td>0.891147</td>\n",
       "      <td>0.904873</td>\n",
       "    </tr>\n",
       "    <tr>\n",
       "      <th>1</th>\n",
       "      <td>R2 score(Test)</td>\n",
       "      <td>-3.548721e+18</td>\n",
       "      <td>0.865719</td>\n",
       "      <td>0.857603</td>\n",
       "    </tr>\n",
       "    <tr>\n",
       "      <th>2</th>\n",
       "      <td>RSS(Train)</td>\n",
       "      <td>6.348694e-01</td>\n",
       "      <td>1.339438</td>\n",
       "      <td>23451.084647</td>\n",
       "    </tr>\n",
       "    <tr>\n",
       "      <th>3</th>\n",
       "      <td>RSS(Test)</td>\n",
       "      <td>1.929021e+19</td>\n",
       "      <td>0.729926</td>\n",
       "      <td>4208.712440</td>\n",
       "    </tr>\n",
       "    <tr>\n",
       "      <th>4</th>\n",
       "      <td>MSE(Train)</td>\n",
       "      <td>6.218113e-04</td>\n",
       "      <td>0.036220</td>\n",
       "      <td>0.033859</td>\n",
       "    </tr>\n",
       "    <tr>\n",
       "      <th>5</th>\n",
       "      <td>MSE(Test)</td>\n",
       "      <td>2.098609e+08</td>\n",
       "      <td>0.040823</td>\n",
       "      <td>0.042038</td>\n",
       "    </tr>\n",
       "  </tbody>\n",
       "</table>\n",
       "</div>"
      ],
      "text/plain": [
       "            Metric  Linear Regression  Ridge Regression  Lasso Regression\n",
       "0  R2 score(Train)       9.484057e-01          0.891147          0.904873\n",
       "1   R2 score(Test)      -3.548721e+18          0.865719          0.857603\n",
       "2       RSS(Train)       6.348694e-01          1.339438      23451.084647\n",
       "3        RSS(Test)       1.929021e+19          0.729926       4208.712440\n",
       "4       MSE(Train)       6.218113e-04          0.036220          0.033859\n",
       "5        MSE(Test)       2.098609e+08          0.040823          0.042038"
      ]
     },
     "execution_count": 177,
     "metadata": {},
     "output_type": "execute_result"
    }
   ],
   "source": [
    "# now let me put all the metrics viz R^2 value, RSS, MSE & RMSE in a single data frame for all the 3 models\n",
    "lr_table = {'Metric': ['R2 score(Train)','R2 score(Test)', 'RSS(Train)', 'RSS(Test)' , 'MSE(Train)' , 'MSE(Test)'] ,\n",
    "           'Linear Regression' : metric}\n",
    "\n",
    "lr_metric = pd.DataFrame(lr_table , columns = ['Metric' , 'Linear Regression'])\n",
    "rg_metric = pd.Series(metric2 , name = 'Ridge Regression' )\n",
    "ls_metric = pd.Series( metric3 , name = 'Lasso Regression')\n",
    "final_metric = pd.concat([lr_metric , rg_metric , ls_metric] , axis=1)\n",
    "\n",
    "final_metric"
   ]
  },
  {
   "cell_type": "markdown",
   "id": "9d21388d",
   "metadata": {},
   "source": [
    "# let's observe the changes in the model coefficients after regularization"
   ]
  },
  {
   "cell_type": "code",
   "execution_count": 246,
   "id": "aca426a4",
   "metadata": {},
   "outputs": [],
   "source": [
    "betas = pd.DataFrame(X)\n",
    "betas= pd.DataFrame( index=X.columns)\n",
    "betas.rows = cols\n",
    "betas['Linear'] = lm.coef_.flatten()\n",
    "betas['Ridge'] = ridge.coef_.flatten()\n",
    "betas['Lasso'] = lasso.coef_.flatten()"
   ]
  },
  {
   "cell_type": "code",
   "execution_count": 247,
   "id": "0690b55a",
   "metadata": {},
   "outputs": [
    {
     "data": {
      "text/html": [
       "<div>\n",
       "<style scoped>\n",
       "    .dataframe tbody tr th:only-of-type {\n",
       "        vertical-align: middle;\n",
       "    }\n",
       "\n",
       "    .dataframe tbody tr th {\n",
       "        vertical-align: top;\n",
       "    }\n",
       "\n",
       "    .dataframe thead th {\n",
       "        text-align: right;\n",
       "    }\n",
       "</style>\n",
       "<table border=\"1\" class=\"dataframe\">\n",
       "  <thead>\n",
       "    <tr style=\"text-align: right;\">\n",
       "      <th></th>\n",
       "      <th>Linear</th>\n",
       "      <th>Ridge</th>\n",
       "      <th>Lasso</th>\n",
       "    </tr>\n",
       "  </thead>\n",
       "  <tbody>\n",
       "    <tr>\n",
       "      <th>MSSubClass</th>\n",
       "      <td>-1.076166e-02</td>\n",
       "      <td>-0.026616</td>\n",
       "      <td>-0.035726</td>\n",
       "    </tr>\n",
       "    <tr>\n",
       "      <th>LotFrontage</th>\n",
       "      <td>3.747782e-02</td>\n",
       "      <td>-0.002683</td>\n",
       "      <td>-0.000000</td>\n",
       "    </tr>\n",
       "    <tr>\n",
       "      <th>LotArea</th>\n",
       "      <td>2.113548e-01</td>\n",
       "      <td>0.023847</td>\n",
       "      <td>0.040855</td>\n",
       "    </tr>\n",
       "    <tr>\n",
       "      <th>OverallQual</th>\n",
       "      <td>7.674150e-02</td>\n",
       "      <td>0.079511</td>\n",
       "      <td>0.119170</td>\n",
       "    </tr>\n",
       "    <tr>\n",
       "      <th>OverallCond</th>\n",
       "      <td>6.328699e-02</td>\n",
       "      <td>0.028846</td>\n",
       "      <td>0.039518</td>\n",
       "    </tr>\n",
       "    <tr>\n",
       "      <th>...</th>\n",
       "      <td>...</td>\n",
       "      <td>...</td>\n",
       "      <td>...</td>\n",
       "    </tr>\n",
       "    <tr>\n",
       "      <th>SaleCondition_AdjLand</th>\n",
       "      <td>2.350224e-02</td>\n",
       "      <td>0.004453</td>\n",
       "      <td>0.000000</td>\n",
       "    </tr>\n",
       "    <tr>\n",
       "      <th>SaleCondition_Alloca</th>\n",
       "      <td>2.049720e-02</td>\n",
       "      <td>0.007765</td>\n",
       "      <td>0.000000</td>\n",
       "    </tr>\n",
       "    <tr>\n",
       "      <th>SaleCondition_Family</th>\n",
       "      <td>-6.151795e-04</td>\n",
       "      <td>-0.003696</td>\n",
       "      <td>-0.000000</td>\n",
       "    </tr>\n",
       "    <tr>\n",
       "      <th>SaleCondition_Normal</th>\n",
       "      <td>6.051779e-03</td>\n",
       "      <td>0.003744</td>\n",
       "      <td>0.002606</td>\n",
       "    </tr>\n",
       "    <tr>\n",
       "      <th>SaleCondition_Partial</th>\n",
       "      <td>-2.506375e+09</td>\n",
       "      <td>0.005815</td>\n",
       "      <td>0.003193</td>\n",
       "    </tr>\n",
       "  </tbody>\n",
       "</table>\n",
       "<p>236 rows × 3 columns</p>\n",
       "</div>"
      ],
      "text/plain": [
       "                             Linear     Ridge     Lasso\n",
       "MSSubClass            -1.076166e-02 -0.026616 -0.035726\n",
       "LotFrontage            3.747782e-02 -0.002683 -0.000000\n",
       "LotArea                2.113548e-01  0.023847  0.040855\n",
       "OverallQual            7.674150e-02  0.079511  0.119170\n",
       "OverallCond            6.328699e-02  0.028846  0.039518\n",
       "...                             ...       ...       ...\n",
       "SaleCondition_AdjLand  2.350224e-02  0.004453  0.000000\n",
       "SaleCondition_Alloca   2.049720e-02  0.007765  0.000000\n",
       "SaleCondition_Family  -6.151795e-04 -0.003696 -0.000000\n",
       "SaleCondition_Normal   6.051779e-03  0.003744  0.002606\n",
       "SaleCondition_Partial -2.506375e+09  0.005815  0.003193\n",
       "\n",
       "[236 rows x 3 columns]"
      ]
     },
     "execution_count": 247,
     "metadata": {},
     "output_type": "execute_result"
    }
   ],
   "source": [
    "betas"
   ]
  },
  {
   "cell_type": "code",
   "execution_count": 248,
   "id": "29f56d51",
   "metadata": {},
   "outputs": [
    {
     "data": {
      "text/plain": [
       "116"
      ]
     },
     "execution_count": 248,
     "metadata": {},
     "output_type": "execute_result"
    }
   ],
   "source": [
    "#######betas.loc[betas['Lasso']==0,betas.index].tolist()\n",
    "\n",
    "len(betas.index[betas['Lasso']!=0].tolist())"
   ]
  },
  {
   "cell_type": "markdown",
   "id": "e970cb54",
   "metadata": {},
   "source": [
    "# Significant Predictors predicting the house price\n",
    "## betas.index[betas['Lasso']!=0].tolist()\n",
    "\n"
   ]
  },
  {
   "cell_type": "markdown",
   "id": "06be6539",
   "metadata": {},
   "source": [
    "# Optimal value of lambda (hyper tuning parameter)\n",
    "## 0.0001"
   ]
  },
  {
   "cell_type": "code",
   "execution_count": 249,
   "id": "752cbb8c",
   "metadata": {
    "scrolled": true
   },
   "outputs": [
    {
     "name": "stdout",
     "output_type": "stream",
     "text": [
      "                            Linear     Ridge     Lasso  Lasso_abs\n",
      "GrLivArea            -1.405244e+10  0.070722  0.335491   0.335491\n",
      "Condition2_PosN      -6.463950e-01 -0.044711 -0.314755   0.314755\n",
      "OverallQual           7.674150e-02  0.079511  0.119170   0.119170\n",
      "RoofMatl_WdShngl      1.112107e+00  0.054069  0.118307   0.118307\n",
      "Neighborhood_NoRidge  4.028440e-02  0.063531  0.067002   0.067002\n"
     ]
    }
   ],
   "source": [
    "# Calculate the absolute value of the 'Lasso' coefficients\n",
    "betas['Lasso_abs'] = betas['Lasso'].abs()\n",
    "\n",
    "# Sort the DataFrame based on the absolute value of 'Lasso' coefficients\n",
    "betas_sorted = betas.sort_values(by='Lasso_abs', ascending=False)\n",
    "\n",
    "# Get the top 5 predictors\n",
    "top_5_predictors = betas_sorted.head(5)\n",
    "\n",
    "print(top_5_predictors)"
   ]
  },
  {
   "cell_type": "code",
   "execution_count": null,
   "id": "727e7f17",
   "metadata": {},
   "outputs": [],
   "source": []
  },
  {
   "cell_type": "code",
   "execution_count": null,
   "id": "67092b22",
   "metadata": {},
   "outputs": [],
   "source": []
  }
 ],
 "metadata": {
  "kernelspec": {
   "display_name": "Python 3 (ipykernel)",
   "language": "python",
   "name": "python3"
  },
  "language_info": {
   "codemirror_mode": {
    "name": "ipython",
    "version": 3
   },
   "file_extension": ".py",
   "mimetype": "text/x-python",
   "name": "python",
   "nbconvert_exporter": "python",
   "pygments_lexer": "ipython3",
   "version": "3.11.4"
  }
 },
 "nbformat": 4,
 "nbformat_minor": 5
}
